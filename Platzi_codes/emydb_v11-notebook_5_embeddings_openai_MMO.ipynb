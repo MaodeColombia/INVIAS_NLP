{
 "cells": [
  {
   "cell_type": "markdown",
   "metadata": {
    "id": "6YUMMg7shDQl"
   },
   "source": [
    "# Uso de modelos de embeddings de OpenAI"
   ]
  },
  {
   "cell_type": "markdown",
   "metadata": {
    "id": "ZBxk9udQhITF"
   },
   "source": [
    "## Instalación y carga de librerías"
   ]
  },
  {
   "cell_type": "code",
   "execution_count": 1,
   "metadata": {
    "colab": {
     "base_uri": "https://localhost:8080/"
    },
    "executionInfo": {
     "elapsed": 24253,
     "status": "ok",
     "timestamp": 1690825106172,
     "user": {
      "displayName": "Carlos Alarcón",
      "userId": "15349885202925550395"
     },
     "user_tz": 300
    },
    "id": "CGEqpggIOO-K",
    "outputId": "fdc686ed-25c5-412b-a882-cf3702b212e9"
   },
   "outputs": [],
   "source": [
    "# !pip install openai\n",
    "# !pip install tiktoken"
   ]
  },
  {
   "cell_type": "code",
   "execution_count": 2,
   "metadata": {
    "id": "hNorabdjOiB7"
   },
   "outputs": [],
   "source": [
    "from openai import OpenAI\n",
    "from getpass import getpass\n",
    "import os\n",
    "import pandas as pd"
   ]
  },
  {
   "cell_type": "code",
   "execution_count": 3,
   "metadata": {
    "colab": {
     "base_uri": "https://localhost:8080/"
    },
    "executionInfo": {
     "elapsed": 3377,
     "status": "ok",
     "timestamp": 1690825139723,
     "user": {
      "displayName": "Carlos Alarcón",
      "userId": "15349885202925550395"
     },
     "user_tz": 300
    },
    "id": "TM3ZEVlHO2Ka",
    "outputId": "9697b89a-0b13-4cb4-bd9c-a33f1c0af806"
   },
   "outputs": [],
   "source": [
    "# OPENAI_API_KEY = getpass('Enter the secret value: ')\n",
    "# openai.api_key = OPENAI_API_KEY"
   ]
  },
  {
   "cell_type": "markdown",
   "metadata": {
    "id": "Vq_o5Ad2Sj40"
   },
   "source": [
    "## Cargar dataset"
   ]
  },
  {
   "cell_type": "code",
   "execution_count": 4,
   "metadata": {
    "id": "bkyxBQW8O4-_"
   },
   "outputs": [],
   "source": [
    "df = pd.read_csv('../Platzi_codes/emydb_v11-notebook_5_embeddings_openai-generic-food.csv')"
   ]
  },
  {
   "cell_type": "code",
   "execution_count": null,
   "metadata": {
    "colab": {
     "base_uri": "https://localhost:8080/",
     "height": 206
    },
    "executionInfo": {
     "elapsed": 237,
     "status": "ok",
     "timestamp": 1690825206098,
     "user": {
      "displayName": "Carlos Alarcón",
      "userId": "15349885202925550395"
     },
     "user_tz": 300
    },
    "id": "VQc2j5EHO-hg",
    "outputId": "d00a126a-540a-4952-d14c-bc47165ba230"
   },
   "outputs": [],
   "source": [
    "df.head(2)"
   ]
  },
  {
   "cell_type": "markdown",
   "metadata": {
    "id": "GCPzT4woS3mX"
   },
   "source": [
    "## Evaluar cantidad de tokens a procesar"
   ]
  },
  {
   "cell_type": "code",
   "execution_count": 6,
   "metadata": {
    "id": "mkwE7rrTQ1vy"
   },
   "outputs": [],
   "source": [
    "import tiktoken # contabilizar la cantidad de tokens que se enviarían a OpenAI\n",
    "\n",
    "def num_tokens_from_string(text, encodig_name):\n",
    "    encoding = tiktoken.get_encoding(encodig_name)\n",
    "    num_tokens = len(encoding.encode(text))\n",
    "    return num_tokens\n"
   ]
  },
  {
   "cell_type": "code",
   "execution_count": 7,
   "metadata": {
    "id": "2yhzSr9MSLL8"
   },
   "outputs": [],
   "source": [
    "df['total_tokens'] = df['FOOD NAME'].apply(lambda x : num_tokens_from_string(x,'cl100k_base') )"
   ]
  },
  {
   "cell_type": "code",
   "execution_count": null,
   "metadata": {
    "colab": {
     "base_uri": "https://localhost:8080/"
    },
    "executionInfo": {
     "elapsed": 180,
     "status": "ok",
     "timestamp": 1690825542322,
     "user": {
      "displayName": "Carlos Alarcón",
      "userId": "15349885202925550395"
     },
     "user_tz": 300
    },
    "id": "-50tG92PDc7x",
    "outputId": "46947af5-3e6f-466e-f204-979880eca742"
   },
   "outputs": [],
   "source": [
    "sum(df['total_tokens'])"
   ]
  },
  {
   "cell_type": "markdown",
   "metadata": {
    "id": "Rt_hOgNjS-WE"
   },
   "source": [
    "## Generando emebeddings"
   ]
  },
  {
   "cell_type": "markdown",
   "metadata": {
    "tags": [
     "parameters"
    ]
   },
   "source": [
    "__Esta es la estructura respuesta del modelo de embedding__\n",
    "\n",
    "```markdown\n",
    "{\n",
    "  \"object\": \"list\",\n",
    "  \"data\": [\n",
    "    {\n",
    "      \"object\": \"embedding\",\n",
    "      \"index\": 0,\n",
    "      \"embedding\": [\n",
    "        -0.006929283495992422,\n",
    "        -0.005336422007530928,\n",
    "        -4.547132266452536e-05,\n",
    "        -0.024047505110502243\n",
    "      ],\n",
    "    }\n",
    "  ],\n",
    "  \"model\": \"text-embedding-3-small\",\n",
    "  \"usage\": {\n",
    "    \"prompt_tokens\": 5,\n",
    "    \"total_tokens\": 5\n",
    "  }\n",
    "}\n",
    "```"
   ]
  },
  {
   "cell_type": "markdown",
   "metadata": {},
   "source": [
    "Estas lineas fue la versión extendida\n",
    "\n",
    "```python\n",
    "client = OpenAI()\n",
    "def get_embedding(in_text, in_model=\"text-embedding-3-small\"):\n",
    "    temp_text = in_text.replace(\"\\n\", \" \") # no tengo claro por qué esta linea\n",
    "    response = client.embeddings.create(input=[temp_text], model=in_model)\n",
    "    embedding_response = response.data[0].embedding\n",
    "    return embedding_response\n",
    "```\n",
    "\n",
    "En el siguiente script hagola reducción"
   ]
  },
  {
   "cell_type": "code",
   "execution_count": 34,
   "metadata": {},
   "outputs": [],
   "source": [
    "client = OpenAI()\n",
    "def get_embedding(in_text, in_model=\"text-embedding-3-small\"):\n",
    "    in_text = in_text.replace(\"\\n\", \" \")\n",
    "    return client.embeddings.create(input=[in_text], model=in_model).data[0].embedding"
   ]
  },
  {
   "cell_type": "code",
   "execution_count": 36,
   "metadata": {},
   "outputs": [],
   "source": [
    "df['ada_embeddings'] = df['FOOD NAME'].apply(lambda x :get_embedding(x,in_model=\"text-embedding-3-small\"))"
   ]
  },
  {
   "cell_type": "code",
   "execution_count": null,
   "metadata": {},
   "outputs": [],
   "source": [
    "df.head(2)"
   ]
  },
  {
   "cell_type": "code",
   "execution_count": 43,
   "metadata": {},
   "outputs": [],
   "source": [
    "'''\n",
    "INFORMATIVO\n",
    "'''\n",
    "# display(type(df['ada_embeddings'][0]))\n",
    "# display(df['ada_embeddings'][0])\n",
    "# display(len(df['ada_embeddings'][0]))"
   ]
  },
  {
   "cell_type": "markdown",
   "metadata": {
    "id": "WbXFq2_tTD59"
   },
   "source": [
    "## Creando datasets para visualizar"
   ]
  },
  {
   "cell_type": "markdown",
   "metadata": {},
   "source": [
    "Como la data se va a llevar a ~~XXXXembedding~~ se debe formatear"
   ]
  },
  {
   "cell_type": "code",
   "execution_count": null,
   "metadata": {},
   "outputs": [],
   "source": [
    "'''\n",
    "INFORMATIVO\n",
    "'''\n",
    "\n",
    "# df['ada_embeddings'].head(5)"
   ]
  },
  {
   "cell_type": "code",
   "execution_count": null,
   "metadata": {},
   "outputs": [],
   "source": [
    "'''\n",
    "INFORMATIVO\n",
    "'''\n",
    "# type(list(df['ada_embeddings']))"
   ]
  },
  {
   "cell_type": "code",
   "execution_count": null,
   "metadata": {},
   "outputs": [],
   "source": [
    "'''\n",
    "INFORMATIVO\n",
    "'''\n",
    "\n",
    "#list(df['ada_embeddings'])"
   ]
  },
  {
   "cell_type": "code",
   "execution_count": null,
   "metadata": {},
   "outputs": [],
   "source": [
    "'''\n",
    "INFORMATIVO\n",
    "'''\n",
    "\n",
    "# df['ada_embeddings'].apply(type).value_counts()"
   ]
  },
  {
   "cell_type": "code",
   "execution_count": 47,
   "metadata": {
    "id": "kndoXIsvbmLM"
   },
   "outputs": [],
   "source": [
    "# Paso 1\n",
    "df_embeddings = pd.DataFrame(list(df['ada_embeddings']))"
   ]
  },
  {
   "cell_type": "code",
   "execution_count": null,
   "metadata": {
    "colab": {
     "base_uri": "https://localhost:8080/",
     "height": 299
    },
    "executionInfo": {
     "elapsed": 4,
     "status": "ok",
     "timestamp": 1690826297171,
     "user": {
      "displayName": "Carlos Alarcón",
      "userId": "15349885202925550395"
     },
     "user_tz": 300
    },
    "id": "thf7bnfXRNB_",
    "outputId": "1e6459b4-081d-4c3c-cf89-c6113f779ab0"
   },
   "outputs": [],
   "source": [
    "'''\n",
    "INFORMATIVO\n",
    "'''\n",
    "\n",
    "df_embeddings.head(5)"
   ]
  },
  {
   "cell_type": "code",
   "execution_count": 54,
   "metadata": {
    "id": "0VyF-kbNRZJC"
   },
   "outputs": [],
   "source": [
    "# Paso 2: Guardar los embeddings (df['ada_embeddings']) en formato tsv\n",
    "df_embeddings.to_csv('embedding_food.tsv',sep='\\t',index=False, header=False)"
   ]
  },
  {
   "cell_type": "code",
   "execution_count": 55,
   "metadata": {
    "id": "f7rHmQJRGxrV"
   },
   "outputs": [],
   "source": [
    "# Creación de un dataframe para la metadata y labels\n",
    "df[['FOOD NAME','GROUP','SUB GROUP']].to_csv('labels_food.tsv',sep='\\t',index=False, header=True)"
   ]
  },
  {
   "cell_type": "markdown",
   "metadata": {},
   "source": [
    "\\# Ir a \n",
    "[Embedding Projector](https://projector.tensorflow.org/)\n",
    "\n",
    "Allí cargar los embedding emydb_v11-notebook_5_embeddings_openai_embedding_food y los lables emydb_v11-notebook_5_embeddings_openai_labels_food"
   ]
  }
 ],
 "metadata": {
  "colab": {
   "provenance": []
  },
  "kernelspec": {
   "display_name": "UNAD-dBjyLoWd",
   "language": "python",
   "name": "python3"
  },
  "language_info": {
   "codemirror_mode": {
    "name": "ipython",
    "version": 3
   },
   "file_extension": ".py",
   "mimetype": "text/x-python",
   "name": "python",
   "nbconvert_exporter": "python",
   "pygments_lexer": "ipython3",
   "version": "3.12.4"
  }
 },
 "nbformat": 4,
 "nbformat_minor": 0
}
