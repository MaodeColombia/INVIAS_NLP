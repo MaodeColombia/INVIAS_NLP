{
  "cells": [
    {
      "cell_type": "markdown",
      "metadata": {},
      "source": [
        "# Inicialización del Cliente OpenAI y Consultas con Manejo de Excepciones y Temperatura Controlada"
      ]
    },
    {
      "cell_type": "code",
      "execution_count": 1,
      "metadata": {
        "colab": {
          "base_uri": "https://localhost:8080/"
        },
        "id": "bjgpgG8UX8Yv",
        "outputId": "a1876dae-0d54-4df8-e27a-6ebe847d1d6a"
      },
      "outputs": [],
      "source": [
        "# Ya cuento con el paquete de OpenAI\n",
        "# !pip install openai"
      ]
    },
    {
      "cell_type": "code",
      "execution_count": null,
      "metadata": {
        "id": "RIUa1YQ4X_-o"
      },
      "outputs": [],
      "source": [
        "# ------------------------------CAMBIO DE SISTEMA DE INGRESO DE api_key POR INSERSION DIRECTA A INGRESO POR VARIABLE DE ENTORNO---------------------------\n",
        "# from openai import OpenAI\n",
        "\n",
        "# openai = OpenAI(api_key='Ingresa aquí tu API Key de OpenAI')"
      ]
    },
    {
      "cell_type": "markdown",
      "metadata": {},
      "source": [
        "## 🔐 Inicialización segura del cliente OpenAI con variable de entorno"
      ]
    },
    {
      "cell_type": "code",
      "execution_count": 3,
      "metadata": {},
      "outputs": [
        {
          "name": "stdout",
          "output_type": "stream",
          "text": [
            "¡Cliente de OpenAI inicializado correctamente!\n"
          ]
        }
      ],
      "source": [
        "# AI_Queries/code_explanation/oaib/v01-script01.md\n",
        "#   AI_Queries/code_explanation/oaib/v01-script01_Tipos_de_modelos_de_OpenAI.md\n",
        "#   AI_Queries/code_explanation/oaib/v01-script01_diferencias“Modelos_de_Chat”y“Modelos_de_Completions”.md\n",
        "\n",
        "import os\n",
        "from openai import OpenAI\n",
        "# Recuperar la clave API de la variable de entorno\n",
        "api_key_environ = os.environ.get(\"OPENAI_API_KEY\")\n",
        " \n",
        "# Verificar que la clave API esté disponible\n",
        "if not api_key_environ:\n",
        "    raise ValueError(\"La variable de entorno OPENAI_API_KEY no está configurada o está vacía.\")\n",
        " \n",
        "# Inicializar el cliente de OpenAI con la clave API\n",
        "client_openai = OpenAI(api_key=api_key_environ)\n",
        " \n",
        "# Usar el cliente para tus tareas\n",
        "print(\"¡Cliente de OpenAI inicializado correctamente!\")"
      ]
    },
    {
      "cell_type": "markdown",
      "metadata": {},
      "source": [
        "## 🧪 Ejecución de consulta a la API de ChatGPT (`sin temperatura`); extra, manejo de errores (`try-except`)"
      ]
    },
    {
      "cell_type": "code",
      "execution_count": 5,
      "metadata": {
        "colab": {
          "base_uri": "https://localhost:8080/"
        },
        "id": "WotauwKmYUBn",
        "outputId": "8260ca9e-665e-48d8-9196-9b21c8f84c81"
      },
      "outputs": [
        {
          "name": "stdout",
          "output_type": "stream",
          "text": [
            "El Mundial de Fútbol de 2022 se jugó en Catar.\n"
          ]
        }
      ],
      "source": [
        "# AI_Queries\\knowledge\\prompt_AI_GPT-try-exception_uses.md\n",
        "try:\n",
        "    response = client_openai.chat.completions.create(\n",
        "        model = 'gpt-3.5-turbo',\n",
        "        messages = [\n",
        "            {\"role\": \"system\", \"content\" :\"Eres un asistente que da informacion sobre deportes\"},\n",
        "            {\"role\": \"user\", \"content\" :\"¿Quién ganó el mundial de fútbol?\"},\n",
        "            {\"role\": \"assistant\", \"content\" : \"El mundial de 2022 lo ganó Argentina\"},\n",
        "            {\"role\": \"user\", \"content\" :\"¿Dónde se jugó?\"}\n",
        "        ]\n",
        "    )\n",
        "\n",
        "    print(response.choices[0].message.content)\n",
        "    \n",
        "except client_openai.error.OpenAIError as e:\n",
        "    print(\"Ocurrió un error al llamar a la API de OpenAI:\", str(e))\n",
        "except Exception as e:\n",
        "    print(\"Ocurrió un error inesperado:\", str(e))"
      ]
    },
    {
      "cell_type": "markdown",
      "metadata": {},
      "source": [
        "## 🎯 Consulta a la API de ChatGPT con baja aleatoriedad (`temperature = 0.2`)"
      ]
    },
    {
      "cell_type": "code",
      "execution_count": null,
      "metadata": {
        "colab": {
          "base_uri": "https://localhost:8080/"
        },
        "id": "sSwaJ1wmbn5z",
        "outputId": "2df6e4c8-a8a3-4fd2-f89a-64fb1a67c9d7"
      },
      "outputs": [
        {
          "name": "stdout",
          "output_type": "stream",
          "text": [
            "El Mundial de Fútbol de 2022 se jugó en Qatar. Fue la primera vez que este país de Oriente Medio fue sede de la Copa del Mundo.\n"
          ]
        }
      ],
      "source": [
        "response = client_openai.chat.completions.create(\n",
        "    model = 'gpt-3.5-turbo',\n",
        "    messages = [\n",
        "        {\"role\": \"system\", \"content\" :\"Eres un asistente que da informacion sobre deportes\"},\n",
        "        {\"role\": \"user\", \"content\" :\"¿Quién ganó el mundial de fútbol?\"},\n",
        "        {\"role\": \"assistant\", \"content\" : \"El mundial de 2022 lo ganó Argentina\"},\n",
        "        {\"role\": \"user\", \"content\" :\"¿Dónde se jugó?\"}\n",
        "    ],\n",
        "    temperature = 0.2\n",
        ")\n",
        "print(response.choices[0].message.content)"
      ]
    },
    {
      "cell_type": "markdown",
      "metadata": {},
      "source": [
        "## 🎲 Consulta a la API de ChatGPT con alta aleatoriedad (`temperature = 1`)"
      ]
    },
    {
      "cell_type": "code",
      "execution_count": null,
      "metadata": {
        "colab": {
          "base_uri": "https://localhost:8080/"
        },
        "id": "9TuU7pdmb9bm",
        "outputId": "0117ff79-5378-442f-b0af-7cccc23c3bfc"
      },
      "outputs": [
        {
          "name": "stdout",
          "output_type": "stream",
          "text": [
            "El mundial de fútbol de 2022 se llevó a cabo en Qatar.\n"
          ]
        }
      ],
      "source": [
        "response = client_openai.chat.completions.create(\n",
        "    model = 'gpt-3.5-turbo',\n",
        "    messages = [\n",
        "        {\"role\": \"system\", \"content\" :\"Eres un asistente que da informacion sobre deportes.\"},\n",
        "        {\"role\": \"user\", \"content\" :\"¿Quién ganó el mundial de fútbol?\"},\n",
        "        {\"role\": \"assistant\", \"content\" : \"El mundial de 2022 lo ganó Argentina\"},\n",
        "        {\"role\": \"user\", \"content\" :\"¿Dónde se jugó?\"}\n",
        "    ],\n",
        "    temperature = 1\n",
        ")\n",
        "print(response.choices[0].message.content)"
      ]
    }
  ],
  "metadata": {
    "colab": {
      "provenance": []
    },
    "kernelspec": {
      "display_name": "UNAD-dBjyLoWd",
      "language": "python",
      "name": "python3"
    },
    "language_info": {
      "codemirror_mode": {
        "name": "ipython",
        "version": 3
      },
      "file_extension": ".py",
      "mimetype": "text/x-python",
      "name": "python",
      "nbconvert_exporter": "python",
      "pygments_lexer": "ipython3",
      "version": "3.12.4"
    }
  },
  "nbformat": 4,
  "nbformat_minor": 0
}
