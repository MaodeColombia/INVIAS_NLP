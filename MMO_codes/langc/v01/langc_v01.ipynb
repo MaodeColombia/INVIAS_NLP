{
 "cells": [
  {
   "cell_type": "markdown",
   "metadata": {
    "id": "X11QtSmiMV9e"
   },
   "source": [
    "# LangChain para INVIAS\n",
    "\n",
    "Este codigo viene de [langc_v01.ipynb](../../../Platzi_codes/langc/v01/langc_v01.ipynb). Este código desarrollo tiene [Code Explanation](../../../AI_Queries/code_explanation/) "
   ]
  },
  {
   "cell_type": "markdown",
   "metadata": {
    "id": "drFyYyIWMavB"
   },
   "source": [
    "## 1. Instalación de librerías"
   ]
  },
  {
   "cell_type": "code",
   "execution_count": null,
   "metadata": {
    "executionInfo": {
     "elapsed": 5901,
     "status": "ok",
     "timestamp": 1688165628049,
     "user": {
      "displayName": "Omar Espejel",
      "userId": "05134704829153205181"
     },
     "user_tz": 360
    },
    "id": "LofnVb23dSxe"
   },
   "outputs": [],
   "source": [
    "\"\"\" \n",
    "Lista de los paquetes a instalar:\n",
    "\n",
    "    upgrade:\n",
    "        pip\n",
    "        setuptools\n",
    "        wheel\n",
    "    Packages:\n",
    "        langchain \n",
    "        pypdf \n",
    "        openai \n",
    "        chromadb \n",
    "        tiktoken\n",
    "        langchain-community\n",
    "\"\"\"\n",
    "import subprocess\n",
    "\n",
    "comandos = [\n",
    "    [\"pip\", \"install\", \"--upgrade\", \"pip\", \"setuptools\", \"wheel\"],\n",
    "    [\"pip\", \"install\", \"langchain\", \"pypdf\", \"openai\", \"chromadb\", \"tiktoken\"],\n",
    "    [\"pip\", \"install\", \"-U\", \"langchain-community\"],\n",
    "    [\"python\", \"-m\", \"pip\", \"install\", \"--upgrade\", \"pip\"]\n",
    "]\n",
    "\n",
    "log_path = \"instalacion_log.txt\"\n",
    "\n",
    "with open(log_path, \"w\", encoding=\"utf-8\") as log_file:\n",
    "    for i, cmd in enumerate(comandos, start=1):\n",
    "        log_file.write(f\"\\n🔧 Ejecutando comando {i}: {' '.join(cmd)}\\n\")\n",
    "        result = subprocess.run(cmd, stdout=subprocess.PIPE, stderr=subprocess.PIPE, text=True)\n",
    "        \n",
    "        log_file.write(\"✅ STDOUT:\\n\")\n",
    "        log_file.write(result.stdout + \"\\n\")\n",
    "        \n",
    "        if result.stderr:\n",
    "            log_file.write(\"⚠️ STDERR:\\n\")\n",
    "            log_file.write(result.stderr + \"\\n\")\n",
    "\n",
    "print(f\"✅ Resultado guardado en {log_path}\")\n"
   ]
  },
  {
   "cell_type": "markdown",
   "metadata": {},
   "source": [
    "## 2. Configuración de API Key de OpenAI"
   ]
  },
  {
   "cell_type": "code",
   "execution_count": 1,
   "metadata": {
    "colab": {
     "base_uri": "https://localhost:8080/"
    },
    "executionInfo": {
     "elapsed": 8057,
     "status": "ok",
     "timestamp": 1688165818015,
     "user": {
      "displayName": "Omar Espejel",
      "userId": "05134704829153205181"
     },
     "user_tz": 360
    },
    "id": "dHG9AVJkh3Dz",
    "outputId": "616af93a-257b-4cba-81d9-2d2797414792"
   },
   "outputs": [
    {
     "name": "stdout",
     "output_type": "stream",
     "text": [
      "¡Cliente de OpenAI inicializado correctamente!\n"
     ]
    }
   ],
   "source": [
    "import os\n",
    "from openai import OpenAI\n",
    "# Recuperar la clave API de la variable de entorno\n",
    "api_key_environ = os.environ.get(\"OPENAI_API_KEY\")\n",
    " \n",
    "# Verificar que la clave API esté disponible\n",
    "if not api_key_environ:\n",
    "    raise ValueError(\"La variable de entorno OPENAI_API_KEY no está configurada o está vacía.\")\n",
    " \n",
    "# Inicializar el cliente de OpenAI con la clave API\n",
    "client = OpenAI(api_key=api_key_environ)\n",
    " \n",
    "# Usar el cliente para tus tareas\n",
    "print(\"¡Cliente de OpenAI inicializado correctamente!\")"
   ]
  },
  {
   "cell_type": "markdown",
   "metadata": {
    "id": "4Z_Xi-GvMf8E"
   },
   "source": [
    "## 3. Carga de documents"
   ]
  },
  {
   "cell_type": "code",
   "execution_count": 37,
   "metadata": {
    "colab": {
     "base_uri": "https://localhost:8080/"
    },
    "executionInfo": {
     "elapsed": 57463,
     "status": "ok",
     "timestamp": 1688165880499,
     "user": {
      "displayName": "Omar Espejel",
      "userId": "05134704829153205181"
     },
     "user_tz": 360
    },
    "id": "W_6B2k3Vcfxt",
    "outputId": "862c3d28-9656-41cc-ecde-31daec5f7a6e"
   },
   "outputs": [
    {
     "name": "stdout",
     "output_type": "stream",
     "text": [
      "📄 Cargando 2024S-VBOG-054699.pdf\n",
      "📄 Cargando 2024S-VBOG-056838.pdf\n",
      "📄 Cargando 2024S-VBOG-056839.pdf\n",
      "📄 Cargando 2024S-VBOG-056844.pdf\n",
      "📄 Cargando 2024S-VBOG-056845.pdf\n",
      "Esto es todo el contenido de `ml_papers:`\n",
      "\n",
      "🆗 Todos los documentos estan cargados en ml_papers.\n",
      "➖ Total de fragmentos: 31\n",
      "➖ Los fragmentos son cada una de las hojas de cada uno de los 5 archivos en la carpeta ../../../assets/DG_docs/PDFs_test/\n",
      "➖ Este script se ejecuta desde c:\\Users\\devel\\UNAD\\INVIAS\\INVIAS_NLP\\MMO_codes\\langc\\v01\n",
      "➖ Este es el contenido de la última hoja cargada page_content='d. Las tasas de peajes serán diferenciales, es decir, se fijarán en proporción a las\n",
      "distancias recorridas, las características vehiculares y sus respectivos costos de\n",
      "operación. \n",
      "e. Para la determinación del valor del peaje y de las tasas de valorización, en las\n",
      "vías nacionales, se tendrá en cuenta un criterio de equidad fiscal”.\n",
      "4. Sírvase dar a conocer cuáles son los servicios que por normativa están\n",
      "obligados a brindar las concesiones  a la ciudadanía (rescate, asistencia,\n",
      "etc.) de forma permanente. \n",
      "Tal y como se informó previamente, la red vial concesionada se encuentra a cargo de la\n",
      "Agencia Nacional  de  Infraestructura, Entidad  que  incluyen  dentro de las obligaciones\n",
      "contractuales de la concesión la prestación de este tipo de servicios a la ciudadanía, tales\n",
      "como, ambulancias, carro talleres y grúas; en razón a esto, mediante oficio 2024S-VBOG-\n",
      "054509 se le dio traslado por competencia.\n",
      "De otra parte, la red vial a cargo del INVÍAS no es concesionada; adicionalmente, no\n",
      "existe norma alguna que especifique la prestación de servicios asociados al usuario de la\n",
      "vía, en razón a lo anterior, el INVÍAS no desarrolla los proyectos con alcance de atención\n",
      "con ambulancias, carro talleres y grúas, que estén asociados al pago de la tasa de peaje,\n",
      "toda vez que la misma tiene su origen en el uso de la infraestructura vial.\n",
      "5. Sírvase dar a conocer si por parte de su entidad se tiene planeado establecer\n",
      "un peaje entre Bogotá y Soacha para la financiación del proyecto Avenida\n",
      "Longitudinal de Occidente tramo SUR – ALO SUR.\n",
      "Por tratarse la ALO SUR de un proyecto de concesión a cargo de la Agencia Nacional de\n",
      "Infraestructura – ANI, el Instituto Nacional de Vías – INVÍAS no tiene relación con la\n",
      "instalación de peajes en el corredor Bogotá – Soacha, por lo anterior mediante oficio\n",
      "2024S-VBOG-054509 se dio traslado por competencia a la ANI.\n",
      "Atentamente, \n",
      "JUAN CARLOS MONTENEGRO ARJONA\n",
      "DIRECTOR GENERAL\n",
      "Proyectado Por: EDNA SAMANTHA RODRIGUEZ PINZON\n",
      "Revisado Por:  ANNY YIRLESA ARIAS SALAZAR, JOSE MANUEL GOMEZ DUQUE, LAURA GERALDINE SANDOVAL\n",
      "BARRERA, MAURICIO HERNAN CESPEDES SOLANO, RUBY AMPARO  MALAVER MONTAÑA\n",
      "Aprobado Por: LAURA GERALDINE SANDOVAL BARRERA, MAURICIO HERNAN CESPEDES SOLANO, RUBY AMPARO\n",
      " MALAVER MONTAÑA\n",
      "Copia Interna a: MARISOL ANDRADE MARTINEZ (1000000)\n",
      "Copia Externa a: JUAN DAVID GARZON BAHAMON (MINISTERIO DE TRANSPORTE), GRUPO ENLACE CONGRESO\n",
      "MINTRANSPORTE  (MINISTERIO  DE  TRANSPORTE),  ASUNTOS  LEGISLATIVOS  ANI  (AGENCIA  NACIONAL  DE\n",
      "INFRAESTRUCTURA ANI)\n",
      "_____________________________________________________________________________________________________\n",
      "INSTITUTO NACIONAL DE VÍAS Página 4 | 4\n",
      "Dirección: Calle 25G # 73B - 90, Bogotá D.C., Colombia\n",
      "PBX: (+57) 601 377 0600 Línea gratuita: 018000117844\n",
      "Correo institucional: atencionciudadano@invias.gov.co\n",
      "http://www.invias.gov.co' metadata={'producer': 'LibreOffice 5.2', 'creator': 'Writer', 'creationdate': '2024-08-17T01:39:05+00:00', 'author': 'Neiffeth Julieth Vargas Vargas', 'source': '../../../assets/DG_docs/PDFs_test/2024S-VBOG-056845.pdf', 'total_pages': 4, 'page': 3, 'page_label': '4'}\n",
      "\n"
     ]
    }
   ],
   "source": [
    "import requests\n",
    "from langchain.document_loaders import PyPDFLoader\n",
    "import os\n",
    "\n",
    "relative_pdf_path = \"../../../assets/DG_docs/PDFs_test/\"\n",
    "\n",
    "ml_papers = []\n",
    "\n",
    "for i, file_name in enumerate(os.listdir(relative_pdf_path)):\n",
    "    if file_name.lower().endswith(\".pdf\"):\n",
    "        full_pdf_path = os.path.join(relative_pdf_path,file_name)\n",
    "        print(f\"📄 Cargando {file_name}\")\n",
    "\n",
    "        loader = PyPDFLoader(full_pdf_path)\n",
    "        data = loader.load() # AI_Queries\\code_explanation\\ai_query-langc_v01-PyPDFLoader(filename).loader.load()_usage.md\n",
    "        ml_papers.extend(data) # AI_Queries\\code_explanation\\ai_query-langc_v01-.extend_usage.md\n",
    "        # print (ml_papers) # AI_Queries/code_explanation/ai_query-langc_v01-list_start_end_usage.md\n",
    "# Utiliza la lista ml_papers para acceder a los elementos de todos los documentos descargados\n",
    "print('Esto es todo el contenido de `ml_papers:`')\n",
    "print(f\"\"\"\n",
    "🆗 Todos los documentos estan cargados en ml_papers.\n",
    "➖ Total de fragmentos: {len(ml_papers)}\n",
    "➖ Los fragmentos son cada una de las hojas de cada uno de los {len(os.listdir(relative_pdf_path))} archivos en la carpeta {relative_pdf_path}\n",
    "➖ Este script se ejecuta desde {os.getcwd()}\n",
    "➖ Este es el contenido de la última hoja cargada {ml_papers[-1]}\n",
    "\"\"\")"
   ]
  },
  {
   "cell_type": "markdown",
   "metadata": {
    "id": "WJYjDA_GMi0Z"
   },
   "source": [
    "## Split de documents"
   ]
  },
  {
   "cell_type": "code",
   "execution_count": null,
   "metadata": {
    "executionInfo": {
     "elapsed": 20,
     "status": "ok",
     "timestamp": 1688165880500,
     "user": {
      "displayName": "Omar Espejel",
      "userId": "05134704829153205181"
     },
     "user_tz": 360
    },
    "id": "4caTdNe-hk7w"
   },
   "outputs": [],
   "source": [
    "from langchain.text_splitter import RecursiveCharacterTextSplitter\n",
    "\n",
    "text_splitter = RecursiveCharacterTextSplitter(\n",
    "    chunk_size=1500, \n",
    "    # AI_Queries\\code_explanation\\ai_query-langc_v01-chunk_usage.md \n",
    "    # AI_Queries\\code_explanation\\ai_query-langc_v01-max_tokens_Chatgptmodels.md \n",
    "    # AI_Queries\\code_explanation\\ai_query-langc_v01-meaning_inputpromptandanswer.md \n",
    "    # AI_Queries\\code_explanation\\ai_query-langc_v01-retrieval_meaning.md\n",
    "    \n",
    "    chunk_overlap=200,\n",
    "    length_function=len\n",
    "    )\n",
    "\n",
    "documents = text_splitter.split_documents(ml_papers)"
   ]
  },
  {
   "cell_type": "code",
   "execution_count": null,
   "metadata": {
    "colab": {
     "base_uri": "https://localhost:8080/"
    },
    "executionInfo": {
     "elapsed": 20,
     "status": "ok",
     "timestamp": 1688165880500,
     "user": {
      "displayName": "Omar Espejel",
      "userId": "05134704829153205181"
     },
     "user_tz": 360
    },
    "id": "koi4gwzthsGh",
    "outputId": "6ed35c64-9026-4222-b86a-379809bfb6dc"
   },
   "outputs": [],
   "source": [
    "len(documents), documents[0]"
   ]
  },
  {
   "cell_type": "markdown",
   "metadata": {
    "id": "VuGSuQV6MmOA"
   },
   "source": [
    "## Embeddings e ingesta a base de datos vectorial (⚠️ advertencia de uso de esta sección)"
   ]
  },
  {
   "cell_type": "code",
   "execution_count": null,
   "metadata": {
    "executionInfo": {
     "elapsed": 6756,
     "status": "ok",
     "timestamp": 1688165966034,
     "user": {
      "displayName": "Omar Espejel",
      "userId": "05134704829153205181"
     },
     "user_tz": 360
    },
    "id": "iZ-ZFWgRh9aV"
   },
   "outputs": [],
   "source": [
    "from langchain.embeddings import OpenAIEmbeddings\n",
    "from langchain.vectorstores import Chroma\n",
    "\n",
    "# AI_Queries\\code_explanation\\ai_query-langc_v01-Embeddings_and_Vector_Store_Ingestion.md\n",
    "\n",
    "# 1. Crear embeddings con el modelo oficial de OpenAI\n",
    "embeddings = OpenAIEmbeddings(model=\"text-embedding-ada-002\")\n",
    "\n",
    "# 2. Definir carpeta para almacenar la base de datos vectorial\n",
    "persist_directory = \"chroma_db\" #\n",
    "\n",
    "# 3. Crear la base desde documentos y embeddings\n",
    "vectorstore = Chroma.from_documents(\n",
    "    documents=documents,\n",
    "    embedding=embeddings,\n",
    "    persist_directory=persist_directory\n",
    ")\n",
    "\n",
    "# 4. Guardar la base en disco\n",
    "vectorstore.persist()\n",
    "print(\"✅ Base de datos Chroma guardada en:\", persist_directory)\n",
    "\n",
    "\n",
    "# 5. Cargar la base vectorial guardada en disco\n",
    "vectorstore = Chroma(\n",
    "    embedding_function=embeddings,\n",
    "    persist_directory=\"chroma_db\"\n",
    ")\n",
    "\n",
    "# 6. Usar como retriever\n",
    "retriever = vectorstore.as_retriever(\n",
    "    search_kwargs={\"k\": 3}\n",
    "    )"
   ]
  },
  {
   "cell_type": "markdown",
   "metadata": {},
   "source": [
    "⚠️ Fue necesario crear copia de las lineas \"*# 1. Crear embeddings con el modelo oficial de OpenAI*\", \"*# 5. Cargar la base vectorial guardada en disco*\" y \"*# 6. Usar como retriever*\" para **solamente hacer uso de la Based de Datos de embeddings `chroma_db` ya creada y evitar recalcularla**."
   ]
  },
  {
   "cell_type": "code",
   "execution_count": null,
   "metadata": {},
   "outputs": [],
   "source": [
    "from langchain.embeddings import OpenAIEmbeddings\n",
    "from langchain.vectorstores import Chroma\n",
    "\n",
    "# 1. Modelo de embeddings (debe ser el mismo usado al crear la base)\n",
    "embeddings = OpenAIEmbeddings(model=\"text-embedding-ada-002\")\n",
    "\n",
    "# 5. Cargar la base vectorial guardada en disco\n",
    "vectorstore = Chroma(\n",
    "    embedding_function=embeddings,\n",
    "    persist_directory=\"chroma_db\"\n",
    ")\n",
    "\n",
    "# 6. Usar como retriever\n",
    "retriever = vectorstore.as_retriever(\n",
    "    search_kwargs={\"k\": 5}\n",
    ")"
   ]
  },
  {
   "cell_type": "markdown",
   "metadata": {
    "id": "sBbAhkFKMrDC"
   },
   "source": [
    "## Modelos de chat y cadenas para consulta de información"
   ]
  },
  {
   "cell_type": "code",
   "execution_count": null,
   "metadata": {
    "executionInfo": {
     "elapsed": 13,
     "status": "ok",
     "timestamp": 1688165966035,
     "user": {
      "displayName": "Omar Espejel",
      "userId": "05134704829153205181"
     },
     "user_tz": 360
    },
    "id": "fxjg2e6RiTqO"
   },
   "outputs": [],
   "source": [
    "#AI_Queries/code_explanation/ai_query-langc_v01-Chat_Models_and_Retrieval_Chains_for_Information_Querying.md\n",
    "\n",
    "from langchain.chat_models import ChatOpenAI\n",
    "from langchain.chains import RetrievalQA\n",
    "\n",
    "chat = ChatOpenAI(\n",
    "    openai_api_key=api_key_environ,\n",
    "    model_name='gpt-3.5-turbo',\n",
    "    temperature=0.0\n",
    ")\n",
    "\n",
    "# AI_Queries/code_explanation/ai_query-langc_v01-RetrievalQA.from_chain_type_usage.md\n",
    "qa_chain = RetrievalQA.from_chain_type(\n",
    "    llm=chat,\n",
    "    chain_type=\"stuff\",\n",
    "    retriever=retriever\n",
    ")"
   ]
  },
  {
   "cell_type": "code",
   "execution_count": null,
   "metadata": {
    "colab": {
     "base_uri": "https://localhost:8080/",
     "height": 122
    },
    "executionInfo": {
     "elapsed": 6199,
     "status": "ok",
     "timestamp": 1688165977030,
     "user": {
      "displayName": "Omar Espejel",
      "userId": "05134704829153205181"
     },
     "user_tz": 360
    },
    "id": "qgDyf-lOimCT",
    "outputId": "18f9ce42-2c78-4540-e6d3-ec5f01223cbb"
   },
   "outputs": [],
   "source": [
    "# AI_Queries/code_explanation/ai_query-langc_v01-qa_chain.run()_usage.md\n",
    "\n",
    "query = \"qué es fingpt?\"\n",
    "qa_chain.run(query)"
   ]
  },
  {
   "cell_type": "code",
   "execution_count": null,
   "metadata": {
    "colab": {
     "base_uri": "https://localhost:8080/",
     "height": 157
    },
    "executionInfo": {
     "elapsed": 14230,
     "status": "ok",
     "timestamp": 1688165991258,
     "user": {
      "displayName": "Omar Espejel",
      "userId": "05134704829153205181"
     },
     "user_tz": 360
    },
    "id": "rfTiF52Bni8D",
    "outputId": "8e6cbcf0-998e-4cad-e11e-7c51fcb12f4e"
   },
   "outputs": [],
   "source": [
    "query = \"qué hace complicado entrenar un modelo como el fingpt?\"\n",
    "qa_chain.run(query)"
   ]
  },
  {
   "cell_type": "code",
   "execution_count": null,
   "metadata": {
    "colab": {
     "base_uri": "https://localhost:8080/",
     "height": 122
    },
    "executionInfo": {
     "elapsed": 5426,
     "status": "ok",
     "timestamp": 1688165996681,
     "user": {
      "displayName": "Omar Espejel",
      "userId": "05134704829153205181"
     },
     "user_tz": 360
    },
    "id": "MmjAbVyUtLCF",
    "outputId": "d40b5c05-ebf2-4eea-e11a-721c9ad9e6e7"
   },
   "outputs": [],
   "source": [
    "query = \"qué es fast segment?\"\n",
    "qa_chain.run(query)"
   ]
  },
  {
   "cell_type": "code",
   "execution_count": null,
   "metadata": {
    "colab": {
     "base_uri": "https://localhost:8080/",
     "height": 139
    },
    "executionInfo": {
     "elapsed": 7353,
     "status": "ok",
     "timestamp": 1688166004032,
     "user": {
      "displayName": "Omar Espejel",
      "userId": "05134704829153205181"
     },
     "user_tz": 360
    },
    "id": "4qfwxnkAt_Q8",
    "outputId": "5ffc4795-48de-4010-c763-da8abaf94c0b"
   },
   "outputs": [],
   "source": [
    "query = \"cuál es la diferencia entre fast sam y mobile sam?\"\n",
    "qa_chain.run(query)"
   ]
  }
 ],
 "metadata": {
  "colab": {
   "provenance": [
    {
     "file_id": "1fm4uYP20LHFFkWTsxHRGaaL-p1bVLvG6",
     "timestamp": 1688058575617
    }
   ]
  },
  "kernelspec": {
   "display_name": "UNAD-dBjyLoWd",
   "language": "python",
   "name": "python3"
  },
  "language_info": {
   "codemirror_mode": {
    "name": "ipython",
    "version": 3
   },
   "file_extension": ".py",
   "mimetype": "text/x-python",
   "name": "python",
   "nbconvert_exporter": "python",
   "pygments_lexer": "ipython3",
   "version": "3.12.4"
  }
 },
 "nbformat": 4,
 "nbformat_minor": 0
}
