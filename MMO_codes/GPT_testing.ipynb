{
 "cells": [
  {
   "cell_type": "code",
   "execution_count": 16,
   "metadata": {},
   "outputs": [
    {
     "name": "stdout",
     "output_type": "stream",
     "text": [
      "✅ openai is already installed (version: 1.58.1).\n",
      "⚠️ A new version of openai is available: 1.59.2.\n"
     ]
    }
   ],
   "source": [
    "# Evitar que se corra `!pip install openai` cada vez que se corre el código; código generado por ChatGPT. Explicación (AI_Queries\\prompt_AI_GPT-openai_install_upgrade.md)\n",
    "\n",
    "import importlib\n",
    "import subprocess\n",
    "import pkg_resources\n",
    "from packaging import version\n",
    "\n",
    "def ensure_package(package_name):\n",
    "    try:\n",
    "        # Check if the package is installed\n",
    "        pkg = importlib.import_module(package_name)\n",
    "        installed_version = pkg_resources.get_distribution(package_name).version\n",
    "        print(f\"✅ {package_name} is already installed (version: {installed_version}).\")\n",
    "\n",
    "        # Check if the package is up-to-date\n",
    "        result = subprocess.run(\n",
    "            [\"pip\", \"index\", \"versions\", package_name],\n",
    "            capture_output=True,\n",
    "            text=True\n",
    "        )\n",
    "\n",
    "        if result.returncode == 0 and \"Available versions:\" in result.stdout:\n",
    "            latest_version = result.stdout.split(\"Available versions:\")[-1].split(\"\\n\")[0].split(\",\")[0].strip()\n",
    "            if version.parse(installed_version) < version.parse(latest_version):\n",
    "                print(f\"⚠️ A new version of {package_name} is available: {latest_version}.\")\n",
    "            else:\n",
    "                print(f\"✅ {package_name} is up-to-date.\")\n",
    "        else:\n",
    "            print(\"⚠️ Unable to fetch the latest version. Please check your network.\")\n",
    "    except ModuleNotFoundError:\n",
    "        # Install the package if not found\n",
    "        print(f\"🔄 Installing {package_name}...\")\n",
    "        subprocess.check_call([\"pip\", \"install\", package_name])\n",
    "        print(f\"✅ {package_name} has been installed.\")\n",
    "\n",
    "# Check, install, or update the 'openai' package\n",
    "ensure_package(\"openai\")"
   ]
  },
  {
   "cell_type": "code",
   "execution_count": 17,
   "metadata": {},
   "outputs": [],
   "source": [
    "# Mantener actualizado el paquete `openai`\n",
    "\n",
    "import subprocess\n",
    "\n",
    "def update_package(package_name):\n",
    "    print(f\"🔄 Updating {package_name} to the latest version...\")\n",
    "    subprocess.check_call([\"pip\", \"install\", \"--upgrade\", package_name])\n",
    "    print(f\"✅ {package_name} has been updated to the latest version!\")\n",
    "\n",
    "# Update the 'openai' package\n",
    "# update_package(\"openai\")"
   ]
  },
  {
   "cell_type": "code",
   "execution_count": 18,
   "metadata": {},
   "outputs": [],
   "source": [
    "# 2. Configuración inicial\n",
    "from openai import OpenAI, AzureOpenAI\n",
    "import os\n",
    "\n",
    "# Creación de la variable de entorno para la 'OPENAI_API_KEY'. Explicación \"./AI_Queries/prompt_AI_GPT-Environment_variable_creation.md\""
   ]
  },
  {
   "cell_type": "code",
   "execution_count": 19,
   "metadata": {},
   "outputs": [
    {
     "name": "stdout",
     "output_type": "stream",
     "text": [
      "¡Cliente de OpenAI inicializado correctamente!\n"
     ]
    }
   ],
   "source": [
    "# Recuperar la clave API de la variable de entorno\n",
    "api_key = os.environ.get(\"OPENAI_API_KEY\")\n",
    "\n",
    "# Verificar que la clave API esté disponible\n",
    "if not api_key:\n",
    "    raise ValueError(\"La variable de entorno OPENAI_API_KEY no está configurada o está vacía.\")\n",
    "\n",
    "# Inicializar el cliente de OpenAI con la clave API\n",
    "client = OpenAI(api_key=api_key)\n",
    "\n",
    "# Usar el cliente para tus tareas\n",
    "print(\"¡Cliente de OpenAI inicializado correctamente!\")"
   ]
  },
  {
   "cell_type": "code",
   "execution_count": 22,
   "metadata": {},
   "outputs": [],
   "source": [
    "completion = client.chat.completions.create(\n",
    "    model=\"gpt-4o-mini\",\n",
    "    messages=[\n",
    "        {\n",
    "            \"role\": \"user\",\n",
    "            \"content\": \"¡Hola! ¿Me ayudas a aprender sobre la API de OpenAI?\"\n",
    "        }\n",
    "    ]\n",
    ")\n",
    "\n",
    "# Si este script produce error probalblemente sea que no hay credito para hacer la consultas a la API, ver https://platform.openai.com/settings/organization/billing/overview\n",
    "\n",
    "# ./assets/images/20250103_150601.png"
   ]
  },
  {
   "cell_type": "code",
   "execution_count": 24,
   "metadata": {},
   "outputs": [
    {
     "data": {
      "text/plain": [
       "ChatCompletionMessage(content='¡Hola! Claro, estaré encantado de ayudarte a aprender sobre la API de OpenAI. La API de OpenAI te permite interactuar con modelos de inteligencia artificial, como GPT (Generative Pre-trained Transformer), para realizar tareas de procesamiento de lenguaje natural. Aquí tienes un resumen de los aspectos clave de la API:\\n\\n### 1. **¿Qué es la API de OpenAI?**\\nLa API de OpenAI proporciona acceso a modelos de IA que pueden generar texto, responder preguntas, traducir idiomas, y realizar muchas otras tareas relacionadas con el lenguaje.\\n\\n### 2. **Cómo empezar**\\n- **Registro**: Necesitas registrarte en el sitio web de OpenAI y obtener una clave de API.\\n- **Documentación**: Puedes consultar la [documentación oficial de OpenAI](https://platform.openai.com/docs/) para obtener información detallada sobre cómo utilizar la API.\\n\\n### 3. **Llamadas a la API**\\nPuedes hacer solicitudes a la API utilizando bibliotecas HTTP en varios lenguajes de programación. Aquí hay un ejemplo básico en Python usando la biblioteca `requests`:\\n\\n```python\\nimport requests\\n\\n# Definir la clave de API y el endpoint\\napi_key = \"tu_clave_de_api\"\\nendpoint = \"https://api.openai.com/v1/chat/completions\"\\n\\n# Crear la solicitud\\nheaders = {\\n    \"Authorization\": f\"Bearer {api_key}\",\\n    \"Content-Type\": \"application/json\"\\n}\\n\\ndata = {\\n    \"model\": \"gpt-3.5-turbo\",\\n    \"messages\": [{\"role\": \"user\", \"content\": \"Hola, ¿cómo estás?\"}],\\n}\\n\\nresponse = requests.post(endpoint, headers=headers, json=data)\\nprint(response.json())\\n```\\n\\n### 4. **Modelos**\\nExisten diferentes modelos disponibles, con capacidades y precios variables. Por ejemplo:\\n- `gpt-3.5-turbo`: adecuado para la mayoría de las aplicaciones de chat.\\n- `gpt-4`: ofrece capacidades más avanzadas (si está disponible en tu acceso).\\n\\n### 5. **Parámetros de la API**\\nAlgunos parámetros que puedes utilizar incluyen:\\n- **messages**: Un array de mensajes que representa un historial de conversación.\\n- **max_tokens**: El número máximo de tokens que deseas en la respuesta.\\n- **temperature**: Controla la aleatoriedad de las respuestas (valores más bajos hacen que el texto sea más determinista).\\n\\n### 6. **Ejemplos de uso**\\nPuedes utilizar la API para:\\n- Generación de texto creativo.\\n- Respuestas a preguntas frecuentes.\\n- Resumen de texto.\\n- Traducción de idiomas.\\n  \\n### 7. **Consideraciones de uso**\\n- **Costos**: Revisa la estructura de precios para entender los costos asociados con el uso de la API.\\n- **Límites**: Ten en cuenta los límites de uso y las políticas de contenido de OpenAI.\\n\\nSi tienes preguntas más específicas o deseas profundizar en algún tema, ¡dímelo!', refusal=None, role='assistant', audio=None, function_call=None, tool_calls=None)"
      ]
     },
     "execution_count": 24,
     "metadata": {},
     "output_type": "execute_result"
    }
   ],
   "source": [
    "# Obtener la respuesta del modelo `gpt-4o-mini`; explicación approach_1\\outputs\\ChatCompletionMessage_explanation.md\n",
    "completion.choices[0].message"
   ]
  }
 ],
 "metadata": {
  "kernelspec": {
   "display_name": "UNAD-dBjyLoWd",
   "language": "python",
   "name": "python3"
  },
  "language_info": {
   "codemirror_mode": {
    "name": "ipython",
    "version": 3
   },
   "file_extension": ".py",
   "mimetype": "text/x-python",
   "name": "python",
   "nbconvert_exporter": "python",
   "pygments_lexer": "ipython3",
   "version": "3.12.4"
  }
 },
 "nbformat": 4,
 "nbformat_minor": 2
}
