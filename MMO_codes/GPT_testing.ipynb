{
 "cells": [
  {
   "cell_type": "markdown",
   "metadata": {},
   "source": [
    "Evitar que se corra `!pip install openai` cada vez que se corre el código; código generado por ChatGPT. \n",
    "\n",
    "\n",
    "---\n",
    "\n",
    "**How to Use It**\n",
    "- Run the script in your Jupyter Notebook or Python environment.\n",
    "- It will:\n",
    "  1. Check if the package is installed.\n",
    "  2. Compare the installed version with the latest version available.\n",
    "  3. Print appropriate messages or take action.\n",
    "\n",
    "---\n",
    "\n",
    "**Example Output**\n",
    "1. **Package is Installed and Up-to-Date:**\n",
    "   ```\n",
    "   ✅ openai is already installed (version: 0.27.8).\n",
    "   ✅ openai is up-to-date.\n",
    "   ```\n",
    "\n",
    "2. **Package is Installed but Outdated:**\n",
    "   ```\n",
    "   ✅ openai is already installed (version: 0.27.8).\n",
    "   ⚠️ A new version of openai is available: 0.28.0.\n",
    "   ```\n",
    "\n",
    "3. **Package is Not Installed:**\n",
    "   ```\n",
    "   🔄 Installing openai...\n",
    "   ✅ openai has been installed.\n",
    "   ```\n",
    "\n",
    "4. **Network Issues:**\n",
    "   ```\n",
    "   ⚠️ Unable to fetch the latest version. Please check your network.\n",
    "   ```\n",
    "\n",
    "---"
   ]
  },
  {
   "cell_type": "code",
   "execution_count": 9,
   "metadata": {},
   "outputs": [
    {
     "name": "stdout",
     "output_type": "stream",
     "text": [
      "✅ openai is already installed (version: 1.58.1).\n",
      "⚠️ A new version of openai is available: 1.59.2.\n"
     ]
    }
   ],
   "source": [
    "import importlib\n",
    "import subprocess\n",
    "import pkg_resources\n",
    "from packaging import version\n",
    "\n",
    "def ensure_package(package_name):\n",
    "    try:\n",
    "        # Check if the package is installed\n",
    "        pkg = importlib.import_module(package_name)\n",
    "        installed_version = pkg_resources.get_distribution(package_name).version\n",
    "        print(f\"✅ {package_name} is already installed (version: {installed_version}).\")\n",
    "\n",
    "        # Check if the package is up-to-date\n",
    "        result = subprocess.run(\n",
    "            [\"pip\", \"index\", \"versions\", package_name],\n",
    "            capture_output=True,\n",
    "            text=True\n",
    "        )\n",
    "\n",
    "        if result.returncode == 0 and \"Available versions:\" in result.stdout:\n",
    "            latest_version = result.stdout.split(\"Available versions:\")[-1].split(\"\\n\")[0].split(\",\")[0].strip()\n",
    "            if version.parse(installed_version) < version.parse(latest_version):\n",
    "                print(f\"⚠️ A new version of {package_name} is available: {latest_version}.\")\n",
    "            else:\n",
    "                print(f\"✅ {package_name} is up-to-date.\")\n",
    "        else:\n",
    "            print(\"⚠️ Unable to fetch the latest version. Please check your network.\")\n",
    "    except ModuleNotFoundError:\n",
    "        # Install the package if not found\n",
    "        print(f\"🔄 Installing {package_name}...\")\n",
    "        subprocess.check_call([\"pip\", \"install\", package_name])\n",
    "        print(f\"✅ {package_name} has been installed.\")\n",
    "\n",
    "# Check, install, or update the 'openai' package\n",
    "ensure_package(\"openai\")"
   ]
  },
  {
   "cell_type": "markdown",
   "metadata": {},
   "source": [
    "Mantener actualizado el paquete `openai`"
   ]
  },
  {
   "cell_type": "code",
   "execution_count": null,
   "metadata": {},
   "outputs": [
    {
     "name": "stdout",
     "output_type": "stream",
     "text": [
      "🔄 Updating openai to the latest version...\n",
      "✅ openai has been updated to the latest version!\n"
     ]
    }
   ],
   "source": [
    "import subprocess\n",
    "\n",
    "def update_package(package_name):\n",
    "    print(f\"🔄 Updating {package_name} to the latest version...\")\n",
    "    subprocess.check_call([\"pip\", \"install\", \"--upgrade\", package_name])\n",
    "    print(f\"✅ {package_name} has been updated to the latest version!\")\n",
    "\n",
    "# Update the 'openai' package\n",
    "# update_package(\"openai\")"
   ]
  },
  {
   "cell_type": "code",
   "execution_count": 2,
   "metadata": {},
   "outputs": [],
   "source": [
    "# 2. Configuración inicial\n",
    "from openai import OpenAI, AzureOpenAI\n",
    "import os"
   ]
  }
 ],
 "metadata": {
  "kernelspec": {
   "display_name": "UNAD-dBjyLoWd",
   "language": "python",
   "name": "python3"
  },
  "language_info": {
   "codemirror_mode": {
    "name": "ipython",
    "version": 3
   },
   "file_extension": ".py",
   "mimetype": "text/x-python",
   "name": "python",
   "nbconvert_exporter": "python",
   "pygments_lexer": "ipython3",
   "version": "3.12.4"
  }
 },
 "nbformat": 4,
 "nbformat_minor": 2
}
