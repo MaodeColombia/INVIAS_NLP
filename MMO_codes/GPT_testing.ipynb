{
 "cells": [
  {
   "cell_type": "code",
   "execution_count": 9,
   "metadata": {},
   "outputs": [
    {
     "name": "stdout",
     "output_type": "stream",
     "text": [
      "✅ openai is already installed (version: 1.58.1).\n",
      "⚠️ A new version of openai is available: 1.59.2.\n"
     ]
    }
   ],
   "source": [
    "# Evitar que se corra `!pip install openai` cada vez que se corre el código; código generado por ChatGPT. Explicación (AI_Queries\\prompt_AI_GPT-openai_install_upgrade.md)\n",
    "\n",
    "import importlib\n",
    "import subprocess\n",
    "import pkg_resources\n",
    "from packaging import version\n",
    "\n",
    "def ensure_package(package_name):\n",
    "    try:\n",
    "        # Check if the package is installed\n",
    "        pkg = importlib.import_module(package_name)\n",
    "        installed_version = pkg_resources.get_distribution(package_name).version\n",
    "        print(f\"✅ {package_name} is already installed (version: {installed_version}).\")\n",
    "\n",
    "        # Check if the package is up-to-date\n",
    "        result = subprocess.run(\n",
    "            [\"pip\", \"index\", \"versions\", package_name],\n",
    "            capture_output=True,\n",
    "            text=True\n",
    "        )\n",
    "\n",
    "        if result.returncode == 0 and \"Available versions:\" in result.stdout:\n",
    "            latest_version = result.stdout.split(\"Available versions:\")[-1].split(\"\\n\")[0].split(\",\")[0].strip()\n",
    "            if version.parse(installed_version) < version.parse(latest_version):\n",
    "                print(f\"⚠️ A new version of {package_name} is available: {latest_version}.\")\n",
    "            else:\n",
    "                print(f\"✅ {package_name} is up-to-date.\")\n",
    "        else:\n",
    "            print(\"⚠️ Unable to fetch the latest version. Please check your network.\")\n",
    "    except ModuleNotFoundError:\n",
    "        # Install the package if not found\n",
    "        print(f\"🔄 Installing {package_name}...\")\n",
    "        subprocess.check_call([\"pip\", \"install\", package_name])\n",
    "        print(f\"✅ {package_name} has been installed.\")\n",
    "\n",
    "# Check, install, or update the 'openai' package\n",
    "ensure_package(\"openai\")"
   ]
  },
  {
   "cell_type": "code",
   "execution_count": 11,
   "metadata": {},
   "outputs": [
    {
     "name": "stdout",
     "output_type": "stream",
     "text": [
      "🔄 Updating openai to the latest version...\n",
      "✅ openai has been updated to the latest version!\n"
     ]
    }
   ],
   "source": [
    "# Mantener actualizado el paquete `openai`\n",
    "\n",
    "import subprocess\n",
    "\n",
    "def update_package(package_name):\n",
    "    print(f\"🔄 Updating {package_name} to the latest version...\")\n",
    "    subprocess.check_call([\"pip\", \"install\", \"--upgrade\", package_name])\n",
    "    print(f\"✅ {package_name} has been updated to the latest version!\")\n",
    "\n",
    "# Update the 'openai' package\n",
    "# update_package(\"openai\")"
   ]
  },
  {
   "cell_type": "code",
   "execution_count": 12,
   "metadata": {},
   "outputs": [],
   "source": [
    "# 2. Configuración inicial\n",
    "from openai import OpenAI, AzureOpenAI\n",
    "import os\n",
    "\n",
    "# Creación de la variable de entorno para la 'OPENAI_API_KEY'. Explicación \"./AI_Queries/prompt_AI_GPT-Environment_variable_creation.md\""
   ]
  },
  {
   "cell_type": "code",
   "execution_count": 15,
   "metadata": {},
   "outputs": [
    {
     "name": "stdout",
     "output_type": "stream",
     "text": [
      "¡Cliente de OpenAI inicializado correctamente!\n"
     ]
    }
   ],
   "source": [
    "# Recuperar la clave API de la variable de entorno\n",
    "api_key = os.environ.get(\"OPENAI_API_KEY\")\n",
    "\n",
    "# Verificar que la clave API esté disponible\n",
    "if not api_key:\n",
    "    raise ValueError(\"La variable de entorno OPENAI_API_KEY no está configurada o está vacía.\")\n",
    "\n",
    "# Inicializar el cliente de OpenAI con la clave API\n",
    "client = OpenAI(api_key=api_key)\n",
    "\n",
    "# Usar el cliente para tus tareas\n",
    "print(\"¡Cliente de OpenAI inicializado correctamente!\")"
   ]
  }
 ],
 "metadata": {
  "kernelspec": {
   "display_name": "UNAD-dBjyLoWd",
   "language": "python",
   "name": "python3"
  },
  "language_info": {
   "codemirror_mode": {
    "name": "ipython",
    "version": 3
   },
   "file_extension": ".py",
   "mimetype": "text/x-python",
   "name": "python",
   "nbconvert_exporter": "python",
   "pygments_lexer": "ipython3",
   "version": "3.12.4"
  }
 },
 "nbformat": 4,
 "nbformat_minor": 2
}
