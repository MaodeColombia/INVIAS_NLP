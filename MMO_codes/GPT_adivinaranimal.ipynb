{
  "cells": [
    {
      "cell_type": "code",
      "execution_count": null,
      "metadata": {
        "colab": {
          "base_uri": "https://localhost:8080/"
        },
        "id": "B2VUBlhcPxOo",
        "outputId": "461c5d10-6bc0-40dd-fa03-16a2c8325e34"
      },
      "outputs": [],
      "source": [
        "'''\n",
        "Este código esta basado en • Curso de Desarrollo de Chatbots con OpenAI. Clase 5/24 - Aplicación de ejemplo utilizando modelos de OpenAI\n",
        "'''\n",
        "from openai import OpenAI\n",
        "import os\n",
        "# confirmar que el paquete OpenAI esta instalado `pip install openai`\n",
        "\n",
        "api_key_environ = os.environ.get(\"OPENAI_API_KEY\")\n",
        "if api_key_environ:\n",
        "    print(\"API key loaded successfully!\")\n",
        "    client = OpenAI(api_key=api_key_environ)\n",
        "else:\n",
        "    print(\"API key not found!\")"
      ]
    },
    {
      "cell_type": "code",
      "execution_count": 15,
      "metadata": {
        "id": "gCZESW3jQaMy"
      },
      "outputs": [],
      "source": [
        "import random\n",
        "\n",
        "def get_clue():\n",
        "  words = ['elefante', 'león', 'jirafa', 'hipopótamo', 'mono']\n",
        "  random_word = random.choice(words)\n",
        "  prompt = 'Adivina la palabra que estoy pensando. Es un animal que vive en la selva.'\n",
        "  return prompt, random_word"
      ]
    },
    {
      "cell_type": "code",
      "execution_count": 16,
      "metadata": {
        "id": "IaB5unxuRaz-"
      },
      "outputs": [],
      "source": [
        "def check_answer(user_input, answer):\n",
        "  if user_input == answer:\n",
        "    return True\n",
        "  return False"
      ]
    },
    {
      "cell_type": "code",
      "execution_count": 21,
      "metadata": {
        "id": "P9j0TpygRwyn"
      },
      "outputs": [],
      "source": [
        "def give_property(animal):\n",
        "  response = client.chat.completions.create(\n",
        "      model= 'gpt-4o-mini',\n",
        "      messages = [\n",
        "        {\"role\": \"user\", \"content\" :'Dame una caracteristica del tipo animal ' + animal + ', pero jamás digas el nombre del animal'}\n",
        "       ],\n",
        "      max_tokens = 50)\n",
        "  return response.choices[0].message.content"
      ]
    },
    {
      "cell_type": "code",
      "execution_count": 22,
      "metadata": {
        "id": "OY2knbpESZ0C"
      },
      "outputs": [],
      "source": [
        "def play_game():\n",
        "  prompt, answer = get_clue()\n",
        "  print(prompt)\n",
        "  while True:\n",
        "    user_input = input('Ingresa tu respuesta:')\n",
        "    if check_answer(user_input,answer):\n",
        "      print('Correcto! La respuesta era:', answer)\n",
        "      break\n",
        "    else:\n",
        "      print('Respuesta incorrecta. Intentalo de nuevo')\n",
        "      print(give_property(answer))"
      ]
    },
    {
      "cell_type": "code",
      "execution_count": null,
      "metadata": {
        "colab": {
          "base_uri": "https://localhost:8080/"
        },
        "id": "qmuwT5WqTSwd",
        "outputId": "e49e7a64-407c-486e-e003-2b5bd0125290"
      },
      "outputs": [],
      "source": [
        "play_game()"
      ]
    }
  ],
  "metadata": {
    "colab": {
      "provenance": []
    },
    "kernelspec": {
      "display_name": "UNAD-dBjyLoWd",
      "language": "python",
      "name": "python3"
    },
    "language_info": {
      "codemirror_mode": {
        "name": "ipython",
        "version": 3
      },
      "file_extension": ".py",
      "mimetype": "text/x-python",
      "name": "python",
      "nbconvert_exporter": "python",
      "pygments_lexer": "ipython3",
      "version": "3.12.4"
    }
  },
  "nbformat": 4,
  "nbformat_minor": 0
}
